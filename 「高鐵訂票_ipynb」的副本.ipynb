{
  "nbformat": 4,
  "nbformat_minor": 0,
  "metadata": {
    "colab": {
      "provenance": [],
      "include_colab_link": true
    },
    "kernelspec": {
      "name": "python3",
      "display_name": "Python 3"
    },
    "language_info": {
      "name": "python"
    }
  },
  "cells": [
    {
      "cell_type": "markdown",
      "metadata": {
        "id": "view-in-github",
        "colab_type": "text"
      },
      "source": [
        "<a href=\"https://colab.research.google.com/github/yeoku290/MAX_bot_24.04.29_Code/blob/master/%E3%80%8C%E9%AB%98%E9%90%B5%E8%A8%82%E7%A5%A8_ipynb%E3%80%8D%E7%9A%84%E5%89%AF%E6%9C%AC.ipynb\" target=\"_parent\"><img src=\"https://colab.research.google.com/assets/colab-badge.svg\" alt=\"Open In Colab\"/></a>"
      ]
    },
    {
      "cell_type": "markdown",
      "metadata": {
        "id": "6cZkGEs9Ag-D"
      },
      "source": [
        "# 高鐵訂票\n",
        "\n",
        "[![GitHub](https://badgen.net/badge/icon/github?icon=github&label)](https://github.com/wayneclub/Ticket-Bot)\n",
        "\n",
        "***（本程式只提供研究學習之用，請勿以任何商業模式銷售）***\n",
        "\n",
        "#### 使用方式\n",
        "\n",
        "- [THSR](https://irs.thsrc.com.tw/IMINT/)\n"
      ]
    },
    {
      "cell_type": "code",
      "metadata": {
        "id": "_dtXJAtNEhjT",
        "cellView": "form",
        "colab": {
          "base_uri": "https://localhost:8080/"
        },
        "outputId": "90a95ac8-1f3c-4861-8a3e-0d558423efa4"
      },
      "source": [
        "#@title 安裝必要環境\n",
        "# 這行只有第一次連線需要執行，若下載多部影集，只要更換網址並執行\n",
        "\n",
        "!apt-get update && apt upgrade\n",
        "!git clone https://github.com/wayneclub/Ticket-Bot.git\n",
        "!pip install -r Ticket-Bot/requirements.txt\n",
        "%cd Ticket-Bot\n",
        "\n",
        "from IPython.display import clear_output\n",
        "clear_output()\n",
        "\n",
        "!rm /etc/localtime\n",
        "!ln -s /usr/share/zoneinfo/Asia/Taipei /etc/localtime\n",
        "!date"
      ],
      "execution_count": null,
      "outputs": [
        {
          "output_type": "stream",
          "name": "stdout",
          "text": [
            "Fri Jan 12 11:07:03 PM CST 2024\n"
          ]
        }
      ]
    },
    {
      "cell_type": "code",
      "source": [
        "#@title 去程\n",
        "\n",
        "import rtoml\n",
        "from pathlib import Path\n",
        "user_config = Path('user_config.toml')\n",
        "setting = rtoml.load(user_config)\n",
        "\n",
        "# @markdown 自動購票日期時間（方便搶票）\n",
        "\n",
        "schedule_date = '2024-12-12'  #@param {type:\"date\"}\n",
        "schedule_time = '10:30' #@param ['00:00', '00:30', '06:00', '06:30', '07:00', '07:30', '08:00', '08:30', '09:00', '09:30', '10:00', '10:30', '11:00', '11:30', '12:00', '12:30', '13:00', '13:30', '14:00', '14:30', '15:00', '15:30', '16:00', '16:30', '17:00', '17:30', '18:00', '18:30', '19:00', '19:30', '20:00', '20:30', '21:00', '21:30', '22:00', '22:30', '23:00', '23:30'] {allow-input: true}\n",
        "# @markdown 出發站\n",
        "start_station = '台北' #@param ['南港', '台北', '板橋', '桃園', '新竹', '苗栗', '台中', '彰化', '雲林', '嘉義', '台南', '左營']\n",
        "# @markdown 抵達站\n",
        "dest_station = '台中' #@param ['南港', '台北', '板橋', '桃園', '新竹', '苗栗', '台中', '彰化', '雲林', '嘉義', '台南', '左營']\n",
        "# @markdown 出發日期\n",
        "outbound_date = '2024-12-20'  #@param {type:\"date\"}\n",
        "# @markdown 出發時間\n",
        "outbound_time = '12:00' #@param ['00:00', '00:30', '06:00', '06:30', '07:00', '07:30', '08:00', '08:30', '09:00', '09:30', '10:00', '10:30', '11:00', '11:30', '12:00', '12:30', '13:00', '13:30', '14:00', '14:30', '15:00', '15:30', '16:00', '16:30', '17:00', '17:30', '18:00', '18:30', '19:00', '19:30', '20:00', '20:30', '21:00', '21:30', '22:00', '22:30', '23:00', '23:30'] {allow-input: true}\n",
        "# @markdown 抵達時間\n",
        "inbound_time = '18:00' #@param ['00:00', '00:30', '06:00', '06:30', '07:00', '07:30', '08:00', '08:30', '09:00', '09:30', '10:00', '10:30', '11:00', '11:30', '12:00', '12:30', '13:00', '13:30', '14:00', '14:30', '15:00', '15:30', '16:00', '16:30', '17:00', '17:30', '18:00', '18:30', '19:00', '19:30', '20:00', '20:30', '21:00', '21:30', '22:00', '22:30', '23:00', '23:30'] {allow-input: true}\n",
        "# @markdown 座位偏好（靠窗、走道）\n",
        "preferred_seat = \"\"  #@param ['window', 'aisle'] {allow-input: true}\n",
        "# @markdown 車廂類型（標準、商務）\n",
        "car_type = 'normal' #@param ['normal', 'business'] {allow-input: true}\n",
        "# @markdown 車次\n",
        "train_no = '0817' #@param {type:\"string\"}\n",
        "# @markdown 全票\n",
        "adult = 2  # @param {type:\"integer\"}\n",
        "# @markdown 孩童票 (6-11)\n",
        "child = 0    # @param {type:\"integer\"}\n",
        "# @markdown 愛心票\n",
        "disabled = 0 # @param {type:\"integer\"}\n",
        "# @markdown 敬老票\n",
        "elder = 0    # @param {type:\"integer\"}\n",
        "# @markdown 大學生票\n",
        "college = 0 # @param {type:\"integer\"}\n",
        "# @markdown 身分證字號\n",
        "id = 'A123456789' #@param {type:\"string\"}\n",
        "# @markdown E-mail\n",
        "email = '' #@param {type:\"string\"}\n",
        "# @markdown 手機號碼\n",
        "phone = '' #@param {type:\"string\"}\n",
        "# @markdown TGO會員ID\n",
        "tgo_id = 'A123456789' #@param {type:\"string\"}\n",
        "# @markdown 企業統編\n",
        "tax_id = '' #@param {type:\"string\"}\n",
        "# @markdown 自動買票\n",
        "auto = True #@param {type:\"boolean\"}\n",
        "\n",
        "if not schedule_time:\n",
        "  schedule_time = '00:00'\n",
        "setting['schedules']['THSRC']['datetime'] = f'{schedule_date.strip()} {schedule_time.strip()}'.strip()\n",
        "\n",
        "setting['fields']['THSRC']['id'] = id.strip()\n",
        "setting['fields']['THSRC']['start-station'] = start_station.strip()\n",
        "setting['fields']['THSRC']['dest-station'] = dest_station.strip()\n",
        "setting['fields']['THSRC']['outbound-date'] = outbound_date.strip()\n",
        "setting['fields']['THSRC']['outbound-time'] = outbound_time.strip()\n",
        "setting['fields']['THSRC']['inbound-time'] = inbound_time.strip()\n",
        "setting['fields']['THSRC']['preferred-seat'] = preferred_seat.strip()\n",
        "setting['fields']['THSRC']['car-type'] = car_type.strip()\n",
        "setting['fields']['THSRC']['train-no'] = train_no.strip()\n",
        "setting['fields']['THSRC']['ticket']['adult'] = adult\n",
        "setting['fields']['THSRC']['ticket']['elder'] = elder\n",
        "setting['fields']['THSRC']['ticket']['child'] = child\n",
        "setting['fields']['THSRC']['ticket']['disabled'] = disabled\n",
        "setting['fields']['THSRC']['ticket']['college'] = college\n",
        "setting['fields']['THSRC']['email'] = email.strip()\n",
        "setting['fields']['THSRC']['phone'] = phone.strip()\n",
        "setting['fields']['THSRC']['tgo-id'] = tgo_id.strip()\n",
        "setting['fields']['THSRC']['tax-id'] = tax_id.strip()\n",
        "\n",
        "with open(user_config,'w') as f:\n",
        "  f.write(rtoml.dumps(setting))\n",
        "\n",
        "if auto:\n",
        "  !python ticket_bot.py thsrc -a\n",
        "else:\n",
        "  !python ticket_bot.py thsrc"
      ],
      "metadata": {
        "id": "Yr5j3Eih88mW",
        "cellView": "form"
      },
      "execution_count": null,
      "outputs": []
    },
    {
      "cell_type": "code",
      "source": [
        "#@title 回程\n",
        "\n",
        "import rtoml\n",
        "from pathlib import Path\n",
        "user_config = Path('user_config.toml')\n",
        "setting = rtoml.load(user_config)\n",
        "\n",
        "# @markdown 自動購票日期時間\n",
        "schedule_date = '2023-10-13'  #@param {type:\"date\"}\n",
        "schedule_time = '02:46' #@param ['00:00', '00:30', '06:00', '06:30', '07:00', '07:30', '08:00', '08:30', '09:00', '09:30', '10:00', '10:30', '11:00', '11:30', '12:00', '12:30', '13:00', '13:30', '14:00', '14:30', '15:00', '15:30', '16:00', '16:30', '17:00', '17:30', '18:00', '18:30', '19:00', '19:30', '20:00', '20:30', '21:00', '21:30', '22:00', '22:30', '23:00', '23:30'] {allow-input: true}\n",
        "# @markdown 出發站\n",
        "start_station = '台北' #@param ['南港', '台北', '板橋', '桃園', '新竹', '苗栗', '台中', '彰化', '雲林', '嘉義', '台南', '左營']\n",
        "# @markdown 抵達站\n",
        "dest_station = '台中' #@param ['南港', '台北', '板橋', '桃園', '新竹', '苗栗', '台中', '彰化', '雲林', '嘉義', '台南', '左營']\n",
        "# @markdown 出發日期\n",
        "outbound_date = '2023-09-13'  #@param {type:\"date\"}\n",
        "# @markdown 出發時間\n",
        "outbound_time = '09:30' #@param ['00:00', '00:30', '06:00', '06:30', '07:00', '07:30', '08:00', '08:30', '09:00', '09:30', '10:00', '10:30', '11:00', '11:30', '12:00', '12:30', '13:00', '13:30', '14:00', '14:30', '15:00', '15:30', '16:00', '16:30', '17:00', '17:30', '18:00', '18:30', '19:00', '19:30', '20:00', '20:30', '21:00', '21:30', '22:00', '22:30', '23:00', '23:30'] {allow-input: true}\n",
        "# @markdown 抵達時間\n",
        "inbound_time = '12:00' #@param ['00:00', '00:30', '06:00', '06:30', '07:00', '07:30', '08:00', '08:30', '09:00', '09:30', '10:00', '10:30', '11:00', '11:30', '12:00', '12:30', '13:00', '13:30', '14:00', '14:30', '15:00', '15:30', '16:00', '16:30', '17:00', '17:30', '18:00', '18:30', '19:00', '19:30', '20:00', '20:30', '21:00', '21:30', '22:00', '22:30', '23:00', '23:30'] {allow-input: true}\n",
        "# @markdown 座位偏好（靠窗、走道）\n",
        "preferred_seat = 'window'  #@param ['window', 'aisle'] {allow-input: true}\n",
        "# @markdown 車廂類型（標準、商務）\n",
        "car_type = 'normal' #@param ['normal', 'business'] {allow-input: true}\n",
        "# @markdown 車次\n",
        "train_no = '' #@param {type:\"string\"}\n",
        "# @markdown 全票\n",
        "adult = 1  # @param {type:\"integer\"}\n",
        "# @markdown 敬老票\n",
        "elder = 0    # @param {type:\"integer\"}\n",
        "# @markdown 孩童票 (6-11)\n",
        "child = 0    # @param {type:\"integer\"}\n",
        "# @markdown 愛心票\n",
        "disabled = 0 # @param {type:\"integer\"}\n",
        "# @markdown 大學生票\n",
        "college = 0 # @param {type:\"integer\"}\n",
        "# @markdown 身分證字號\n",
        "id = 'A123456789' #@param {type:\"string\"}\n",
        "# @markdown E-mail\n",
        "email = '' #@param {type:\"string\"}\n",
        "# @markdown 手機號碼\n",
        "phone = '' #@param {type:\"string\"}\n",
        "# @markdown TGO會員ID\n",
        "tgo_id = '' #@param {type:\"string\"}\n",
        "# @markdown 自動買票\n",
        "auto = True #@param {type:\"boolean\"}\n",
        "\n",
        "setting['schedules']['THSRC']['datetime'] = f'{schedule_date.strip()} {schedule_time.strip()}'.strip()\n",
        "\n",
        "setting['fields']['THSRC']['id'] = id.strip()\n",
        "setting['fields']['THSRC']['start-station'] = start_station.strip()\n",
        "setting['fields']['THSRC']['dest-station'] = dest_station.strip()\n",
        "setting['fields']['THSRC']['outbound-date'] = outbound_date.strip()\n",
        "setting['fields']['THSRC']['outbound-time'] = outbound_time.strip()\n",
        "setting['fields']['THSRC']['inbound-time'] = inbound_time.strip()\n",
        "setting['fields']['THSRC']['preferred-seat'] = preferred_seat.strip()\n",
        "setting['fields']['THSRC']['car-type'] = car_type.strip()\n",
        "setting['fields']['THSRC']['train-no'] = train_no.strip()\n",
        "setting['fields']['THSRC']['ticket']['adult'] = adult\n",
        "setting['fields']['THSRC']['ticket']['elder'] = elder\n",
        "setting['fields']['THSRC']['ticket']['child'] = child\n",
        "setting['fields']['THSRC']['ticket']['disabled'] = disabled\n",
        "setting['fields']['THSRC']['ticket']['college'] = college\n",
        "setting['fields']['THSRC']['email'] = email.strip()\n",
        "setting['fields']['THSRC']['phone'] = phone.strip()\n",
        "setting['fields']['THSRC']['tgo-id'] = tgo_id.strip()\n",
        "\n",
        "with open(user_config,'w') as f:\n",
        "  f.write(rtoml.dumps(setting))\n",
        "\n",
        "if auto:\n",
        "  !python ticket_bot.py thsrc -a\n",
        "else:\n",
        "  !python ticket_bot.py thsrc"
      ],
      "metadata": {
        "cellView": "form",
        "id": "2eKi1wwKXR0z"
      },
      "execution_count": null,
      "outputs": []
    }
  ]
}